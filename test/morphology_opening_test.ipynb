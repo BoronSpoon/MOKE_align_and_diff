{
 "cells": [
  {
   "cell_type": "code",
   "execution_count": 2,
   "metadata": {},
   "outputs": [],
   "source": [
    "import cv2\n",
    "import os\n",
    "#cwd = os.path.dirname(__file__)\n",
    "cwd = os.path.abspath('') # for ipython notebook\n",
    "cap = cv2.VideoCapture(os.path.join(cwd, \"test.avi\"))\n",
    "_, frame = cap.read() # read first frame\n",
    "kernel = cv2.getStructuringElement(cv2.MORPH_ELLIPSE,(20,20))\n",
    "frame_morph = cv2.morphologyEx(frame, cv2.MORPH_OPEN, kernel)\n",
    "cv2.imshow(\"frames\", cv2.hconcat([frame, frame_morph]))\n",
    "while(True):  \n",
    "    if cv2.waitKey(1) & 0xFF == ord('q'):\n",
    "        break"
   ]
  }
 ],
 "metadata": {
  "interpreter": {
   "hash": "f9a1219af60037afbb537cd6794440bfc5a432380a22757b0c4e1852d095f917"
  },
  "kernelspec": {
   "display_name": "Python 3.7.9 64-bit",
   "language": "python",
   "name": "python3"
  },
  "language_info": {
   "codemirror_mode": {
    "name": "ipython",
    "version": 3
   },
   "file_extension": ".py",
   "mimetype": "text/x-python",
   "name": "python",
   "nbconvert_exporter": "python",
   "pygments_lexer": "ipython3",
   "version": "3.7.9"
  },
  "orig_nbformat": 4
 },
 "nbformat": 4,
 "nbformat_minor": 2
}
